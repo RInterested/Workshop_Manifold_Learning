{
 "cells": [
  {
   "cell_type": "markdown",
   "metadata": {},
   "source": [
    "# Manifold Learning - tSNE+UMAP - Advanced Topics"
   ]
  },
  {
   "cell_type": "markdown",
   "metadata": {},
   "source": [
    "## Sanity Check: What are tSNE and UMAP doing with Random Noise?"
   ]
  },
  {
   "cell_type": "code",
   "execution_count": null,
   "metadata": {},
   "outputs": [],
   "source": [
    "# Adjustments by S.Kuehn, stefan.kuehn@xing.com\n",
    "\n",
    "print(__doc__)\n",
    "\n",
    "from time import time\n",
    "\n",
    "import matplotlib.pyplot as plt\n",
    "from mpl_toolkits.mplot3d import Axes3D\n",
    "from matplotlib.ticker import NullFormatter\n",
    "%matplotlib inline\n",
    "from sklearn import manifold, datasets\n",
    "import numpy as np\n",
    "\n",
    "# Next line to silence pyflakes. This import is needed.\n",
    "Axes3D\n",
    "\n",
    "# Parameters\n",
    "n_points = 1000\n",
    "n_components = 2 # for tSNE / PCA\n",
    "init_random_state=0 # for all methods, change if you like (42 is the value of choice)\n",
    "\n",
    "# Generate a random point cloud, take z component for coloring\n",
    "X2 = np.random.rand(n_points, 3)\n",
    "color2 = X2[:,2]\n",
    "\n",
    "fig = plt.figure(figsize=(12, 12))\n",
    "plt.suptitle(\"Random Noise %i points\"\n",
    "             % (n_points), fontsize=24)\n",
    "\n",
    "ax = fig.add_subplot(111, projection='3d')\n",
    "ax.scatter(X2[:, 0], X2[:, 1], X2[:, 2], c=color2, cmap=plt.cm.Spectral,s=125)\n",
    "#ax.view_init(4, -72)\n",
    "plt.show()"
   ]
  },
  {
   "cell_type": "markdown",
   "metadata": {},
   "source": [
    "## Baseline: Random Projections and PCA"
   ]
  },
  {
   "cell_type": "code",
   "execution_count": null,
   "metadata": {},
   "outputs": [],
   "source": [
    "from sklearn import random_projection\n",
    "from sklearn.decomposition import PCA\n",
    "\n",
    "fig = plt.figure(figsize=(16, 8))\n",
    "plt.suptitle(\"PCA and Random Projections with %i points, %i components\"\n",
    "             % (n_points, n_components), fontsize=24)\n",
    "\n",
    "# PCA\n",
    "pca = PCA(n_components=2)\n",
    "Y = pca.fit_transform(X2)\n",
    "\n",
    "ax = fig.add_subplot(131)\n",
    "plt.scatter(Y[:, 0], Y[:, 1], c=color2, cmap=plt.cm.Spectral)\n",
    "plt.title(\"%s \" % ('PCA'))\n",
    "ax.xaxis.set_major_formatter(NullFormatter())\n",
    "ax.yaxis.set_major_formatter(NullFormatter())\n",
    "plt.axis('tight')\n",
    "\n",
    "# Gaussian Random Projection - GRP\n",
    "transformer = random_projection.GaussianRandomProjection(n_components=2, random_state=init_random_state)\n",
    "Y = transformer.fit_transform(X2)\n",
    "    \n",
    "ax = fig.add_subplot(132)\n",
    "plt.scatter(Y[:, 0], Y[:, 1], c=color2, cmap=plt.cm.Spectral)\n",
    "plt.title(\"%s \" % ('GRP'))\n",
    "ax.xaxis.set_major_formatter(NullFormatter())\n",
    "ax.yaxis.set_major_formatter(NullFormatter())\n",
    "plt.axis('tight')\n",
    "\n",
    "# Sparse Random ProjectiSRP\n",
    "transformer = random_projection.SparseRandomProjection(n_components=2, random_state=init_random_state)\n",
    "Y = transformer.fit_transform(X2)\n",
    "    \n",
    "ax = fig.add_subplot(133)\n",
    "plt.scatter(Y[:, 0], Y[:, 1], c=color2, cmap=plt.cm.Spectral)\n",
    "plt.title(\"%s \" % ('SRP'))\n",
    "ax.xaxis.set_major_formatter(NullFormatter())\n",
    "ax.yaxis.set_major_formatter(NullFormatter())\n",
    "plt.axis('tight');\n"
   ]
  },
  {
   "cell_type": "markdown",
   "metadata": {},
   "source": [
    "## Try t-SNE"
   ]
  },
  {
   "cell_type": "code",
   "execution_count": null,
   "metadata": {},
   "outputs": [],
   "source": [
    "t0 = time()\n",
    "tsne = manifold.TSNE(n_components=2, random_state=1, perplexity=30)\n",
    "Y = tsne.fit_transform(X2)\n",
    "t1 = time()"
   ]
  },
  {
   "cell_type": "code",
   "execution_count": null,
   "metadata": {},
   "outputs": [],
   "source": [
    "# Plot result\n",
    "fig = plt.figure(figsize=(12, 12))\n",
    "plt.suptitle(\"t-SNE applied to Random Noise with %i points\"\n",
    "             % (n_points), fontsize=24)\n",
    "\n",
    "ax = fig.add_subplot(111)\n",
    "plt.scatter(Y[:, 0], Y[:, 1], c=color2, cmap=plt.cm.Spectral)\n",
    "plt.title(\"t-SNE (%.2g sec)\" % (t1 - t0))\n",
    "ax.xaxis.set_major_formatter(NullFormatter())\n",
    "ax.yaxis.set_major_formatter(NullFormatter())\n",
    "plt.axis('tight');"
   ]
  },
  {
   "cell_type": "markdown",
   "metadata": {},
   "source": [
    "tSNE applied to random noise - it seems to enforce a certain local structure even if it is not really there."
   ]
  },
  {
   "cell_type": "markdown",
   "metadata": {},
   "source": [
    "## Try UMAP"
   ]
  },
  {
   "cell_type": "code",
   "execution_count": null,
   "metadata": {},
   "outputs": [],
   "source": [
    "import umap\n",
    "t0 = time()\n",
    "Y= umap.UMAP(n_neighbors=15,\n",
    "                      min_dist=0.3,\n",
    "                      metric='euclidean').fit_transform(X2)\n",
    "t1 = time()"
   ]
  },
  {
   "cell_type": "code",
   "execution_count": null,
   "metadata": {},
   "outputs": [],
   "source": [
    "# Plot result\n",
    "fig = plt.figure(figsize=(12, 12))\n",
    "plt.suptitle(\"UMAP applied to Random Noise with %i points\"\n",
    "             % (n_points), fontsize=24)\n",
    "\n",
    "ax = fig.add_subplot(111)\n",
    "plt.scatter(Y[:, 0], Y[:, 1], c=color2, cmap=plt.cm.Spectral)\n",
    "plt.title(\"UMAP (%.2g sec)\" % (t1 - t0))\n",
    "ax.xaxis.set_major_formatter(NullFormatter())\n",
    "ax.yaxis.set_major_formatter(NullFormatter())\n",
    "plt.axis('tight');"
   ]
  },
  {
   "cell_type": "markdown",
   "metadata": {},
   "source": [
    "Well, interesting."
   ]
  },
  {
   "cell_type": "markdown",
   "metadata": {},
   "source": [
    "# Practical Test Random Noise\n",
    "\n",
    "Adjust perplexity parameter in the cell below such that the result looks like \"random noise\"."
   ]
  },
  {
   "cell_type": "code",
   "execution_count": null,
   "metadata": {},
   "outputs": [],
   "source": [
    "t0 = time()\n",
    "tsne = manifold.TSNE(n_components=2, random_state=1, perplexity=30)\n",
    "Y = tsne.fit_transform(X2)\n",
    "t1 = time()"
   ]
  },
  {
   "cell_type": "code",
   "execution_count": null,
   "metadata": {},
   "outputs": [],
   "source": [
    "# Plot result\n",
    "fig = plt.figure(figsize=(12, 12))\n",
    "plt.suptitle(\"t-SNE applied to Random Noise with %i points\"\n",
    "             % (n_points), fontsize=24)\n",
    "\n",
    "ax = fig.add_subplot(111)\n",
    "plt.scatter(Y[:, 0], Y[:, 1], c=color2, cmap=plt.cm.Spectral)\n",
    "plt.title(\"t-SNE (%.2g sec)\" % (t1 - t0))\n",
    "ax.xaxis.set_major_formatter(NullFormatter())\n",
    "ax.yaxis.set_major_formatter(NullFormatter())\n",
    "plt.axis('tight');"
   ]
  },
  {
   "cell_type": "markdown",
   "metadata": {},
   "source": [
    "## Takewaways\n",
    "\n",
    "1. Don't tune perplexity until you \"find\" structure - you will always find something. \n",
    "2. In case you have found something, try to validate / reproduce it using other methods. If you cannot reproduce something that looks at least a bit like your initial finding, you should not use it."
   ]
  }
 ],
 "metadata": {
  "kernelspec": {
   "display_name": "Python 3",
   "language": "python",
   "name": "python3"
  },
  "language_info": {
   "codemirror_mode": {
    "name": "ipython",
    "version": 3
   },
   "file_extension": ".py",
   "mimetype": "text/x-python",
   "name": "python",
   "nbconvert_exporter": "python",
   "pygments_lexer": "ipython3",
   "version": "3.7.6"
  }
 },
 "nbformat": 4,
 "nbformat_minor": 4
}
