{
 "cells": [
  {
   "cell_type": "markdown",
   "metadata": {},
   "source": [
    "# Introduction to UMAP"
   ]
  },
  {
   "cell_type": "code",
   "execution_count": null,
   "metadata": {},
   "outputs": [],
   "source": [
    "import numpy as np\n",
    "import pandas as pd\n",
    "\n",
    "import umap\n",
    "from sklearn.datasets import load_digits\n",
    "\n",
    "digits = load_digits(6)\n",
    "X = digits.data\n",
    "y = digits.target\n",
    "embedding = umap.UMAP(n_neighbors=15,\n",
    "                      min_dist=0.3,\n",
    "#                      metric='correlation').fit_transform(X)\n",
    "#                      metric='minkowski').fit_transform(X)\n",
    "                      metric='euclidean').fit_transform(X)\n"
   ]
  },
  {
   "cell_type": "markdown",
   "metadata": {},
   "source": [
    "## How to plot UMAP embeddings"
   ]
  },
  {
   "cell_type": "code",
   "execution_count": null,
   "metadata": {},
   "outputs": [],
   "source": [
    "import matplotlib.pyplot as plt\n",
    "fig = plt.figure(figsize=(10, 10))\n",
    "plt.suptitle(\"Basic UMAP plot\",size=24)\n",
    "\n",
    "ax = fig.add_subplot(111)\n",
    "ax.scatter(embedding[:, 0], embedding[:, 1], c=digits.target, s=30)\n",
    "\n",
    "plt.show()"
   ]
  },
  {
   "cell_type": "markdown",
   "metadata": {},
   "source": [
    "## Advanced plotting"
   ]
  },
  {
   "cell_type": "code",
   "execution_count": null,
   "metadata": {},
   "outputs": [],
   "source": [
    "# Scale and visualize the embedding vectors\n",
    "def plot_umap(X, title=None,subplot=111):\n",
    "    x_min, x_max = np.min(X, 0), np.max(X, 0)\n",
    "    X = (X - x_min) / (x_max - x_min)\n",
    "\n",
    "    plt.figure(figsize=(10, 10))\n",
    "    ax = plt.subplot(subplot)\n",
    "    for i in range(X.shape[0]):\n",
    "        plt.text(X[i, 0], X[i, 1], str(digits.target[i]),\n",
    "                 color=plt.cm.Set1(y[i] / 10.),\n",
    "                 fontdict={'weight': 'bold', 'size': 9})\n",
    "\n",
    "    plt.xticks([]), plt.yticks([])\n",
    "    if title is not None:\n",
    "        plt.title(title)\n",
    "\n",
    "\n",
    "# Plot the embedding\n",
    "plot_umap(embedding)"
   ]
  },
  {
   "cell_type": "markdown",
   "metadata": {},
   "source": [
    "## Important parameters\n",
    "\n",
    "* n_neighbors (default: 15) - the number of neighbors determines the local versus global scale\n",
    "* min_dist (default: 0.1) - the minimum distance points are allowed to have in the low-dim representation\n",
    "* metric (default: euclidean) - how the distance is measured\n",
    "* n_components (default: 2) - the target dimension for the low-dim representation"
   ]
  },
  {
   "cell_type": "markdown",
   "metadata": {},
   "source": [
    "# Practical Task UMAP I\n",
    "\n",
    "Semi-supervised Learning with UMAP\n",
    "\n",
    "* Mask some parts of the data (mask the labels)\n",
    "* Experiment with the number of masked points (total number of points is 1080 for 6 digit classes)\n",
    "\n",
    "This can be used for automatically labelling unlabeled data points using the labels from a known sample."
   ]
  },
  {
   "cell_type": "code",
   "execution_count": null,
   "metadata": {},
   "outputs": [],
   "source": [
    "number_of_masked_points = 10\n",
    "\n",
    "masked_y = y.copy().astype(np.int8)\n",
    "masked_y[np.random.choice(number_of_masked_points,size=number_of_masked_points,replace=False)] = -1\n",
    "pd.Series(masked_y).value_counts()"
   ]
  },
  {
   "cell_type": "code",
   "execution_count": null,
   "metadata": {},
   "outputs": [],
   "source": [
    "fitter = umap.UMAP(min_dist=0.3,).fit(X, y=masked_y)\n",
    "embedding_semi = fitter.embedding_"
   ]
  },
  {
   "cell_type": "code",
   "execution_count": null,
   "metadata": {},
   "outputs": [],
   "source": [
    "plot_umap(embedding_semi)\n",
    "plot_umap(embedding)"
   ]
  },
  {
   "cell_type": "markdown",
   "metadata": {},
   "source": [
    "# Practical Task UMAP II - Advanced\n",
    "\n",
    "Metric Learning with UMAP\n",
    "\n",
    "* Follow the instruction from\n",
    "\n",
    "https://umap-learn.readthedocs.io/en/latest/supervised.html#training-with-labels-and-embedding-unlabelled-test-data-metric-learning-with-umap\n",
    "\n",
    "\n"
   ]
  },
  {
   "cell_type": "code",
   "execution_count": null,
   "metadata": {},
   "outputs": [],
   "source": []
  }
 ],
 "metadata": {
  "kernelspec": {
   "display_name": "Python 3",
   "language": "python",
   "name": "python3"
  },
  "language_info": {
   "codemirror_mode": {
    "name": "ipython",
    "version": 3
   },
   "file_extension": ".py",
   "mimetype": "text/x-python",
   "name": "python",
   "nbconvert_exporter": "python",
   "pygments_lexer": "ipython3",
   "version": "3.7.6"
  }
 },
 "nbformat": 4,
 "nbformat_minor": 4
}
